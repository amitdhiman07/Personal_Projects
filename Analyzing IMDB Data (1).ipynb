{
 "cells": [
  {
   "cell_type": "markdown",
   "id": "9fac49a5",
   "metadata": {},
   "source": [
    "# Analyzing IMDb Data\n"
   ]
  },
  {
   "cell_type": "markdown",
   "id": "5315628c",
   "metadata": {},
   "source": [
    "### Let's start with basic level"
   ]
  },
  {
   "cell_type": "code",
   "execution_count": 1,
   "id": "1aa2b0b1",
   "metadata": {},
   "outputs": [],
   "source": [
    "# importing the necessary libraries\n",
    "\n",
    "import pandas as pd \n",
    "import matplotlib.pyplot as plt\n",
    "\n",
    "%matplotlib inline"
   ]
  },
  {
   "cell_type": "markdown",
   "id": "2fe23c55",
   "metadata": {},
   "source": [
    "### Reading the IMDb file and store it into a variable called \"movies\""
   ]
  },
  {
   "cell_type": "code",
   "execution_count": 4,
   "id": "116dd5b4",
   "metadata": {},
   "outputs": [
    {
     "data": {
      "text/html": [
       "<div>\n",
       "<style scoped>\n",
       "    .dataframe tbody tr th:only-of-type {\n",
       "        vertical-align: middle;\n",
       "    }\n",
       "\n",
       "    .dataframe tbody tr th {\n",
       "        vertical-align: top;\n",
       "    }\n",
       "\n",
       "    .dataframe thead th {\n",
       "        text-align: right;\n",
       "    }\n",
       "</style>\n",
       "<table border=\"1\" class=\"dataframe\">\n",
       "  <thead>\n",
       "    <tr style=\"text-align: right;\">\n",
       "      <th></th>\n",
       "      <th>title</th>\n",
       "      <th>release_year</th>\n",
       "      <th>runtime</th>\n",
       "      <th>genre</th>\n",
       "      <th>rating</th>\n",
       "      <th>gross(M)</th>\n",
       "    </tr>\n",
       "  </thead>\n",
       "  <tbody>\n",
       "    <tr>\n",
       "      <th>0</th>\n",
       "      <td>The Shawshank Redemption</td>\n",
       "      <td>1994</td>\n",
       "      <td>142 min</td>\n",
       "      <td>Drama</td>\n",
       "      <td>9.3</td>\n",
       "      <td>28.34</td>\n",
       "    </tr>\n",
       "    <tr>\n",
       "      <th>1</th>\n",
       "      <td>The Godfather</td>\n",
       "      <td>1972</td>\n",
       "      <td>175 min</td>\n",
       "      <td>Crime</td>\n",
       "      <td>9.2</td>\n",
       "      <td>134.97</td>\n",
       "    </tr>\n",
       "    <tr>\n",
       "      <th>2</th>\n",
       "      <td>The Godfather</td>\n",
       "      <td>1972</td>\n",
       "      <td>175 min</td>\n",
       "      <td>Drama</td>\n",
       "      <td>9.2</td>\n",
       "      <td>134.97</td>\n",
       "    </tr>\n",
       "    <tr>\n",
       "      <th>3</th>\n",
       "      <td>The Dark Knight</td>\n",
       "      <td>2008</td>\n",
       "      <td>152 min</td>\n",
       "      <td>Action</td>\n",
       "      <td>9.0</td>\n",
       "      <td>534.86</td>\n",
       "    </tr>\n",
       "    <tr>\n",
       "      <th>4</th>\n",
       "      <td>The Dark Knight</td>\n",
       "      <td>2008</td>\n",
       "      <td>152 min</td>\n",
       "      <td>Crime</td>\n",
       "      <td>9.0</td>\n",
       "      <td>534.86</td>\n",
       "    </tr>\n",
       "  </tbody>\n",
       "</table>\n",
       "</div>"
      ],
      "text/plain": [
       "                      title  release_year  runtime   genre  rating  gross(M)\n",
       "0  The Shawshank Redemption          1994  142 min   Drama     9.3     28.34\n",
       "1             The Godfather          1972  175 min   Crime     9.2    134.97\n",
       "2             The Godfather          1972  175 min   Drama     9.2    134.97\n",
       "3           The Dark Knight          2008  152 min  Action     9.0    534.86\n",
       "4           The Dark Knight          2008  152 min   Crime     9.0    534.86"
      ]
     },
     "execution_count": 4,
     "metadata": {},
     "output_type": "execute_result"
    }
   ],
   "source": [
    "movies = pd.read_csv(r\"C:\\Users\\Amit\\Desktop\\random/imdb_clean.csv\")\n",
    "movies.head()"
   ]
  },
  {
   "cell_type": "markdown",
   "id": "999dc614",
   "metadata": {},
   "source": [
    "### Checking the shape of the dataset"
   ]
  },
  {
   "cell_type": "code",
   "execution_count": 5,
   "id": "8386ecdd",
   "metadata": {},
   "outputs": [
    {
     "data": {
      "text/plain": [
       "(2532, 6)"
      ]
     },
     "execution_count": 5,
     "metadata": {},
     "output_type": "execute_result"
    }
   ],
   "source": [
    "movies.shape"
   ]
  },
  {
   "cell_type": "markdown",
   "id": "db863700",
   "metadata": {},
   "source": [
    "### Checking the data types"
   ]
  },
  {
   "cell_type": "code",
   "execution_count": 6,
   "id": "896cbf52",
   "metadata": {},
   "outputs": [
    {
     "data": {
      "text/plain": [
       "title            object\n",
       "release_year      int64\n",
       "runtime          object\n",
       "genre            object\n",
       "rating          float64\n",
       "gross(M)        float64\n",
       "dtype: object"
      ]
     },
     "execution_count": 6,
     "metadata": {},
     "output_type": "execute_result"
    }
   ],
   "source": [
    "movies.dtypes"
   ]
  },
  {
   "cell_type": "markdown",
   "id": "0159e9a9",
   "metadata": {},
   "source": [
    "### Calculate the average movie duration"
   ]
  },
  {
   "cell_type": "code",
   "execution_count": 14,
   "id": "0f527ca2",
   "metadata": {},
   "outputs": [
    {
     "name": "stdout",
     "output_type": "stream",
     "text": [
      "0       142\n",
      "1       175\n",
      "2       175\n",
      "3       152\n",
      "4       152\n",
      "       ... \n",
      "2527     71\n",
      "2528     71\n",
      "2529    113\n",
      "2530    113\n",
      "2531    113\n",
      "Name: duration, Length: 2532, dtype: int32\n"
     ]
    }
   ],
   "source": [
    "# str.extract('(\\d+)') method used to extract the numeric digits.\n",
    "movies[\"duration\"] = movies[\"runtime\"].str.extract('(\\d+)').astype(int)\n",
    "print(movies[\"duration\"])"
   ]
  },
  {
   "cell_type": "code",
   "execution_count": 16,
   "id": "14735576",
   "metadata": {},
   "outputs": [
    {
     "data": {
      "text/plain": [
       "124.20971563981043"
      ]
     },
     "execution_count": 16,
     "metadata": {},
     "output_type": "execute_result"
    }
   ],
   "source": [
    "movies[\"duration\"].mean()"
   ]
  },
  {
   "cell_type": "markdown",
   "id": "dd08feb6",
   "metadata": {},
   "source": [
    "### Sort the DataFrame by duration to find out the shortest and longest movies"
   ]
  },
  {
   "cell_type": "code",
   "execution_count": 60,
   "id": "f5a70059",
   "metadata": {},
   "outputs": [
    {
     "name": "stdout",
     "output_type": "stream",
     "text": [
      "The length of movies_uni_title array is : 994\n",
      "The length of movies_uni_dur array is :  142\n",
      "------------------------\n",
      "Title       [Gangs of Wasseypur, Hamlet, Zack Snyder's Jus...\n",
      "Duration    [321, 242, 238, 229, 224, 220, 218, 212, 209, ...\n",
      "dtype: object\n",
      "------------------------\n",
      "Longest\n",
      "                             title  duration\n",
      "462             Gangs of Wasseypur       321\n",
      "463             Gangs of Wasseypur       321\n",
      "464             Gangs of Wasseypur       321\n",
      "2221                        Hamlet       242\n",
      "863   Zack Snyder's Justice League       242\n",
      "862   Zack Snyder's Justice League       242\n",
      "864   Zack Snyder's Justice League       242\n",
      "432             Gone with the Wind       238\n",
      "433             Gone with the Wind       238\n",
      "431             Gone with the Wind       238\n",
      "------------------------\n",
      "Shortest\n",
      "                            title  duration\n",
      "1076  The Cabinet of Dr. Caligari        67\n",
      "1077  The Cabinet of Dr. Caligari        67\n",
      "1482          Battleship Potemkin        66\n",
      "1481          Battleship Potemkin        66\n",
      "1480          Battleship Potemkin        66\n",
      "1797                       Freaks        64\n",
      "1798                       Freaks        64\n",
      "519                  Sherlock Jr.        45\n",
      "517                  Sherlock Jr.        45\n",
      "518                  Sherlock Jr.        45\n"
     ]
    }
   ],
   "source": [
    "display_cols = [\"title\",\"duration\"]\n",
    "movies_sorted = movies.sort_values(\"duration\",ascending=False)\n",
    "\n",
    "movies_uni_dur = movies_sorted['duration'].unique()\n",
    "movies_uni_title = movies_sorted['title'].unique()\n",
    "\n",
    "# Checking the length of my array\n",
    "\n",
    "print(f\"The length of movies_uni_title array is : {len(movies_uni_title)}\")\n",
    "print(\"The length of movies_uni_dur array is : \" ,len(movies_uni_dur))\n",
    "\n",
    "print(\"------------------------\")\n",
    "table = [movies_uni_title , movies_uni_dur]\n",
    "\n",
    "table_data = pd.Series(table , index= [\"Title\" , \"Duration\"])\n",
    "print(table_data)\n",
    "print(\"------------------------\")\n",
    "\n",
    "print(\"Longest\")\n",
    "print(movies_sorted[display_cols].iloc[:10])\n",
    "\n",
    "print(\"------------------------\")\n",
    "print(\"Shortest\")\n",
    "print(movies_sorted[display_cols].iloc[-10:])"
   ]
  },
  {
   "cell_type": "markdown",
   "id": "352e6b4b",
   "metadata": {},
   "source": [
    "### Create a histogram of duration"
   ]
  },
  {
   "cell_type": "code",
   "execution_count": 70,
   "id": "549e2f48",
   "metadata": {},
   "outputs": [
    {
     "data": {
      "image/png": "[encoded data removed]",
      "text/plain": [
       "<Figure size 432x288 with 1 Axes>"
      ]
     },
     "metadata": {
      "needs_background": "light"
     },
     "output_type": "display_data"
    }
   ],
   "source": [
    "ax = movies.loc[:,'duration'].plot.hist(bins = 30)"
   ]
  },
  {
   "cell_type": "code",
   "execution_count": 67,
   "id": "053538ac",
   "metadata": {},
   "outputs": [
    {
     "data": {
      "text/plain": [
       "<AxesSubplot:>"
      ]
     },
     "execution_count": 67,
     "metadata": {},
     "output_type": "execute_result"
    },
    {
     "data": {
      "image/png": "[encoded data removed]",
      "text/plain": [
       "<Figure size 720x720 with 1 Axes>"
      ]
     },
     "metadata": {
      "needs_background": "light"
     },
     "output_type": "display_data"
    }
   ],
   "source": [
    "movies.duration.plot(kind=\"box\" , figsize = (10,10))"
   ]
  },
  {
   "cell_type": "code",
   "execution_count": 66,
   "id": "c67905b2",
   "metadata": {},
   "outputs": [
    {
     "data": {
      "text/html": [
       "<div>\n",
       "<style scoped>\n",
       "    .dataframe tbody tr th:only-of-type {\n",
       "        vertical-align: middle;\n",
       "    }\n",
       "\n",
       "    .dataframe tbody tr th {\n",
       "        vertical-align: top;\n",
       "    }\n",
       "\n",
       "    .dataframe thead th {\n",
       "        text-align: right;\n",
       "    }\n",
       "</style>\n",
       "<table border=\"1\" class=\"dataframe\">\n",
       "  <thead>\n",
       "    <tr style=\"text-align: right;\">\n",
       "      <th></th>\n",
       "      <th>release_year</th>\n",
       "      <th>rating</th>\n",
       "      <th>gross(M)</th>\n",
       "      <th>duration</th>\n",
       "    </tr>\n",
       "  </thead>\n",
       "  <tbody>\n",
       "    <tr>\n",
       "      <th>count</th>\n",
       "      <td>2532.000000</td>\n",
       "      <td>2532.000000</td>\n",
       "      <td>2532.000000</td>\n",
       "      <td>2532.000000</td>\n",
       "    </tr>\n",
       "    <tr>\n",
       "      <th>mean</th>\n",
       "      <td>1992.241706</td>\n",
       "      <td>7.966272</td>\n",
       "      <td>61.718515</td>\n",
       "      <td>124.209716</td>\n",
       "    </tr>\n",
       "    <tr>\n",
       "      <th>std</th>\n",
       "      <td>24.221845</td>\n",
       "      <td>0.274463</td>\n",
       "      <td>113.378029</td>\n",
       "      <td>28.915958</td>\n",
       "    </tr>\n",
       "    <tr>\n",
       "      <th>min</th>\n",
       "      <td>1920.000000</td>\n",
       "      <td>7.600000</td>\n",
       "      <td>0.000000</td>\n",
       "      <td>45.000000</td>\n",
       "    </tr>\n",
       "    <tr>\n",
       "      <th>25%</th>\n",
       "      <td>1976.000000</td>\n",
       "      <td>7.800000</td>\n",
       "      <td>0.287500</td>\n",
       "      <td>103.000000</td>\n",
       "    </tr>\n",
       "    <tr>\n",
       "      <th>50%</th>\n",
       "      <td>2000.000000</td>\n",
       "      <td>7.900000</td>\n",
       "      <td>10.775000</td>\n",
       "      <td>120.000000</td>\n",
       "    </tr>\n",
       "    <tr>\n",
       "      <th>75%</th>\n",
       "      <td>2011.000000</td>\n",
       "      <td>8.100000</td>\n",
       "      <td>70.100000</td>\n",
       "      <td>139.000000</td>\n",
       "    </tr>\n",
       "    <tr>\n",
       "      <th>max</th>\n",
       "      <td>2023.000000</td>\n",
       "      <td>9.300000</td>\n",
       "      <td>936.660000</td>\n",
       "      <td>321.000000</td>\n",
       "    </tr>\n",
       "  </tbody>\n",
       "</table>\n",
       "</div>"
      ],
      "text/plain": [
       "       release_year       rating     gross(M)     duration\n",
       "count   2532.000000  2532.000000  2532.000000  2532.000000\n",
       "mean    1992.241706     7.966272    61.718515   124.209716\n",
       "std       24.221845     0.274463   113.378029    28.915958\n",
       "min     1920.000000     7.600000     0.000000    45.000000\n",
       "25%     1976.000000     7.800000     0.287500   103.000000\n",
       "50%     2000.000000     7.900000    10.775000   120.000000\n",
       "75%     2011.000000     8.100000    70.100000   139.000000\n",
       "max     2023.000000     9.300000   936.660000   321.000000"
      ]
     },
     "execution_count": 66,
     "metadata": {},
     "output_type": "execute_result"
    }
   ],
   "source": [
    "# Checking how many movies are outliers\n",
    "\n",
    "movies.describe()"
   ]
  },
  {
   "cell_type": "code",
   "execution_count": 71,
   "id": "237192b2",
   "metadata": {},
   "outputs": [
    {
     "data": {
      "text/plain": [
       "39"
      ]
     },
     "execution_count": 71,
     "metadata": {},
     "output_type": "execute_result"
    }
   ],
   "source": [
    "movies[movies.duration > 200].title.value_counts().sum()"
   ]
  },
  {
   "cell_type": "markdown",
   "id": "4df94ee6",
   "metadata": {},
   "source": [
    "### Intermediate Level"
   ]
  },
  {
   "cell_type": "markdown",
   "id": "549dc813",
   "metadata": {},
   "source": [
    "### Counting different genres."
   ]
  },
  {
   "cell_type": "code",
   "execution_count": 77,
   "id": "da4ccfe1",
   "metadata": {},
   "outputs": [],
   "source": [
    "total = movies.genre.value_counts()"
   ]
  },
  {
   "cell_type": "markdown",
   "id": "9b3999d3",
   "metadata": {},
   "source": [
    "### Displaying that same data "
   ]
  },
  {
   "cell_type": "code",
   "execution_count": 78,
   "id": "855879c9",
   "metadata": {},
   "outputs": [
    {
     "data": {
      "image/png": "[encoded data removed]",
      "text/plain": [
       "<Figure size 432x288 with 1 Axes>"
      ]
     },
     "metadata": {
      "needs_background": "light"
     },
     "output_type": "display_data"
    }
   ],
   "source": [
    "p = total.plot.bar()\n",
    "p.set(title=\"Number of movies per genre\",xlabel=\"genre\", ylabel=\"Number of movies\")\n",
    "p.legend(loc=\"upper right\");"
   ]
  },
  {
   "cell_type": "markdown",
   "id": "324472ea",
   "metadata": {},
   "source": [
    "### Count the number of missing values in each columns"
   ]
  },
  {
   "cell_type": "code",
   "execution_count": 79,
   "id": "58da06e3",
   "metadata": {},
   "outputs": [
    {
     "name": "stdout",
     "output_type": "stream",
     "text": [
      "<class 'pandas.core.frame.DataFrame'>\n",
      "RangeIndex: 2532 entries, 0 to 2531\n",
      "Data columns (total 7 columns):\n",
      " #   Column        Non-Null Count  Dtype  \n",
      "---  ------        --------------  -----  \n",
      " 0   title         2532 non-null   object \n",
      " 1   release_year  2532 non-null   int64  \n",
      " 2   runtime       2532 non-null   object \n",
      " 3   genre         2532 non-null   object \n",
      " 4   rating        2532 non-null   float64\n",
      " 5   gross(M)      2532 non-null   float64\n",
      " 6   duration      2532 non-null   int32  \n",
      "dtypes: float64(2), int32(1), int64(1), object(3)\n",
      "memory usage: 128.7+ KB\n"
     ]
    }
   ],
   "source": [
    "movies.info()"
   ]
  },
  {
   "cell_type": "code",
   "execution_count": 80,
   "id": "3bc34e80",
   "metadata": {},
   "outputs": [
    {
     "data": {
      "text/plain": [
       "title           0\n",
       "release_year    0\n",
       "runtime         0\n",
       "genre           0\n",
       "rating          0\n",
       "gross(M)        0\n",
       "duration        0\n",
       "dtype: int64"
      ]
     },
     "execution_count": 80,
     "metadata": {},
     "output_type": "execute_result"
    }
   ],
   "source": [
    "movies.apply(pd.isnull).sum()"
   ]
  },
  {
   "cell_type": "code",
   "execution_count": 82,
   "id": "91b8460e",
   "metadata": {},
   "outputs": [
    {
     "data": {
      "text/plain": [
       "title           0\n",
       "release_year    0\n",
       "runtime         0\n",
       "genre           0\n",
       "rating          0\n",
       "gross(M)        0\n",
       "duration        0\n",
       "dtype: int64"
      ]
     },
     "execution_count": 82,
     "metadata": {},
     "output_type": "execute_result"
    }
   ],
   "source": [
    "# OR\n",
    "movies.isnull().sum()"
   ]
  },
  {
   "cell_type": "markdown",
   "id": "d3e069e4",
   "metadata": {},
   "source": [
    "### Calculate the average rating for the movies 2 hours or longer and compare that with the average rating for the movies shorter than 2 hours"
   ]
  },
  {
   "cell_type": "code",
   "execution_count": 86,
   "id": "a3f0b90d",
   "metadata": {},
   "outputs": [
    {
     "data": {
      "text/plain": [
       "8.025076687116623"
      ]
     },
     "execution_count": 86,
     "metadata": {},
     "output_type": "execute_result"
    }
   ],
   "source": [
    "avg_movie_rating_longer = movies[movies.loc[:,'duration'] >= 120].rating.mean()\n",
    "avg_movie_rating_longer "
   ]
  },
  {
   "cell_type": "code",
   "execution_count": 87,
   "id": "ab65caa5",
   "metadata": {},
   "outputs": [
    {
     "data": {
      "text/plain": [
       "7.9038273615635575"
      ]
     },
     "execution_count": 87,
     "metadata": {},
     "output_type": "execute_result"
    }
   ],
   "source": [
    "avg_movie_rating_shorter = movies[movies.loc[:,\"duration\"] < 120].rating.mean()\n",
    "avg_movie_rating_shorter"
   ]
  },
  {
   "cell_type": "code",
   "execution_count": 88,
   "id": "5215abd8",
   "metadata": {},
   "outputs": [
    {
     "name": "stdout",
     "output_type": "stream",
     "text": [
      "The average rating for the movies 2 hours or longer (8.025076687116623) greater than the average rating for the movies shorter than 2 hours which is 7.9038273615635575\n"
     ]
    }
   ],
   "source": [
    "print(f\"The average rating for the movies 2 hours or longer ({avg_movie_rating_longer}) greater than the average rating for the movies shorter than 2 hours which is {avg_movie_rating_shorter}\")"
   ]
  },
  {
   "cell_type": "markdown",
   "id": "c646cc67",
   "metadata": {},
   "source": [
    "### Using visualization to detect whether there is a relationship between duration and rating"
   ]
  },
  {
   "cell_type": "code",
   "execution_count": 90,
   "id": "886c3ace",
   "metadata": {},
   "outputs": [
    {
     "data": {
      "image/png": "[encoded data removed]",
      "text/plain": [
       "<Figure size 720x288 with 1 Axes>"
      ]
     },
     "metadata": {
      "needs_background": "light"
     },
     "output_type": "display_data"
    }
   ],
   "source": [
    "ax = movies.plot.scatter(x = \"rating\" ,\n",
    "                         y =\"duration\" ,\n",
    "                         figsize=(10,4), \n",
    "                         c= \"red\" ,\n",
    "                         s=100)"
   ]
  },
  {
   "cell_type": "markdown",
   "id": "717dc12f",
   "metadata": {},
   "source": [
    "##### The graph shows no pattern between points. Therefore, there is no correlation "
   ]
  },
  {
   "cell_type": "markdown",
   "id": "3a3fbaf1",
   "metadata": {},
   "source": [
    "### Calculate the average duration for each genre"
   ]
  },
  {
   "cell_type": "code",
   "execution_count": 93,
   "id": "38d9d9b6",
   "metadata": {},
   "outputs": [
    {
     "data": {
      "text/plain": [
       "genre\n",
       "History      142.955556\n",
       "Musical      141.562500\n",
       "Sport        140.133333\n",
       "Biography    137.401869\n",
       "War          133.460000\n",
       "Action       130.545894\n",
       "Western      130.058824\n",
       "Drama        127.543092\n",
       "Crime        126.039024\n",
       "Adventure    125.687831\n",
       "Mystery      122.718447\n",
       "Romance      121.568000\n",
       "Fantasy      121.564516\n",
       "Sci-Fi       120.597015\n",
       "Thriller     120.468085\n",
       "Music        120.193548\n",
       "Family       118.461538\n",
       "Comedy       112.804348\n",
       "Horror       102.060606\n",
       "Film-Noir    101.590909\n",
       "Animation     99.880952\n",
       "Name: duration, dtype: float64"
      ]
     },
     "execution_count": 93,
     "metadata": {},
     "output_type": "execute_result"
    }
   ],
   "source": [
    "movies.groupby('genre')['duration'].mean().sort_values(ascending=False)"
   ]
  },
  {
   "cell_type": "markdown",
   "id": "cbd294a4",
   "metadata": {},
   "source": [
    "### Advanced Level"
   ]
  },
  {
   "cell_type": "code",
   "execution_count": 94,
   "id": "c1972a0b",
   "metadata": {},
   "outputs": [
    {
     "data": {
      "text/plain": [
       "array([[<AxesSubplot:title={'center':'Action'}>,\n",
       "        <AxesSubplot:title={'center':'Adventure'}>,\n",
       "        <AxesSubplot:title={'center':'Animation'}>,\n",
       "        <AxesSubplot:title={'center':'Biography'}>,\n",
       "        <AxesSubplot:title={'center':'Comedy'}>],\n",
       "       [<AxesSubplot:title={'center':'Crime'}>,\n",
       "        <AxesSubplot:title={'center':'Drama'}>,\n",
       "        <AxesSubplot:title={'center':'Family'}>,\n",
       "        <AxesSubplot:title={'center':'Fantasy'}>,\n",
       "        <AxesSubplot:title={'center':'Film-Noir'}>],\n",
       "       [<AxesSubplot:title={'center':'History'}>,\n",
       "        <AxesSubplot:title={'center':'Horror'}>,\n",
       "        <AxesSubplot:title={'center':'Music'}>,\n",
       "        <AxesSubplot:title={'center':'Musical'}>,\n",
       "        <AxesSubplot:title={'center':'Mystery'}>],\n",
       "       [<AxesSubplot:title={'center':'Romance'}>,\n",
       "        <AxesSubplot:title={'center':'Sci-Fi'}>,\n",
       "        <AxesSubplot:title={'center':'Sport'}>,\n",
       "        <AxesSubplot:title={'center':'Thriller'}>,\n",
       "        <AxesSubplot:title={'center':'War'}>],\n",
       "       [<AxesSubplot:title={'center':'Western'}>, <AxesSubplot:>,\n",
       "        <AxesSubplot:>, <AxesSubplot:>, <AxesSubplot:>]], dtype=object)"
      ]
     },
     "execution_count": 94,
     "metadata": {},
     "output_type": "execute_result"
    },
    {
     "data": {
      "image/png": "[encoded data removed]",
      "text/plain": [
       "<Figure size 432x288 with 25 Axes>"
      ]
     },
     "metadata": {
      "needs_background": "light"
     },
     "output_type": "display_data"
    }
   ],
   "source": [
    "movies.loc[:,'duration'].hist(by=movies.loc[:,\"genre\"],sharex=True)"
   ]
  },
  {
   "cell_type": "markdown",
   "id": "09d8d6f1",
   "metadata": {},
   "source": [
    "### Finding the title of the movie with the highest rating in each genre"
   ]
  },
  {
   "cell_type": "code",
   "execution_count": 97,
   "id": "20eeede6",
   "metadata": {},
   "outputs": [
    {
     "data": {
      "text/plain": [
       "genre\n",
       "Action        The Lord of the Rings: The Return of the King\n",
       "Adventure     The Lord of the Rings: The Return of the King\n",
       "Animation               Spider-Man: Across the Spider-Verse\n",
       "Biography                                  Schindler's List\n",
       "Comedy                                          777 Charlie\n",
       "Crime                                         The Godfather\n",
       "Drama                              The Shawshank Redemption\n",
       "Family                                It's a Wonderful Life\n",
       "Fantasy      Star Wars: Episode V - The Empire Strikes Back\n",
       "Film-Noir                                      Sunset Blvd.\n",
       "History                                    Schindler's List\n",
       "Horror                                               Psycho\n",
       "Music                                           The Pianist\n",
       "Musical                                 Singin' in the Rain\n",
       "Mystery                                            Jai Bhim\n",
       "Romance                                        Forrest Gump\n",
       "Sci-Fi                                            Inception\n",
       "Sport                                    Bhaag Milkha Bhaag\n",
       "Thriller                           The Silence of the Lambs\n",
       "War                                     Saving Private Ryan\n",
       "Name: title, dtype: object"
      ]
     },
     "execution_count": 97,
     "metadata": {},
     "output_type": "execute_result"
    }
   ],
   "source": [
    "movies.sort_values(\"rating\" , ascending=False).groupby('genre').title.first().head(20)"
   ]
  },
  {
   "cell_type": "markdown",
   "id": "6e4d6a39",
   "metadata": {},
   "source": [
    "### Check if there are multiple movies with the same title.\n"
   ]
  },
  {
   "cell_type": "code",
   "execution_count": 98,
   "id": "e1fa88e2",
   "metadata": {},
   "outputs": [
    {
     "data": {
      "text/html": [
       "<div>\n",
       "<style scoped>\n",
       "    .dataframe tbody tr th:only-of-type {\n",
       "        vertical-align: middle;\n",
       "    }\n",
       "\n",
       "    .dataframe tbody tr th {\n",
       "        vertical-align: top;\n",
       "    }\n",
       "\n",
       "    .dataframe thead th {\n",
       "        text-align: right;\n",
       "    }\n",
       "</style>\n",
       "<table border=\"1\" class=\"dataframe\">\n",
       "  <thead>\n",
       "    <tr style=\"text-align: right;\">\n",
       "      <th></th>\n",
       "      <th>title</th>\n",
       "      <th>release_year</th>\n",
       "      <th>runtime</th>\n",
       "      <th>genre</th>\n",
       "      <th>rating</th>\n",
       "      <th>gross(M)</th>\n",
       "      <th>duration</th>\n",
       "    </tr>\n",
       "  </thead>\n",
       "  <tbody>\n",
       "    <tr>\n",
       "      <th>0</th>\n",
       "      <td>The Shawshank Redemption</td>\n",
       "      <td>1994</td>\n",
       "      <td>142 min</td>\n",
       "      <td>Drama</td>\n",
       "      <td>9.3</td>\n",
       "      <td>28.34</td>\n",
       "      <td>142</td>\n",
       "    </tr>\n",
       "    <tr>\n",
       "      <th>1</th>\n",
       "      <td>The Godfather</td>\n",
       "      <td>1972</td>\n",
       "      <td>175 min</td>\n",
       "      <td>Crime</td>\n",
       "      <td>9.2</td>\n",
       "      <td>134.97</td>\n",
       "      <td>175</td>\n",
       "    </tr>\n",
       "    <tr>\n",
       "      <th>2</th>\n",
       "      <td>The Godfather</td>\n",
       "      <td>1972</td>\n",
       "      <td>175 min</td>\n",
       "      <td>Drama</td>\n",
       "      <td>9.2</td>\n",
       "      <td>134.97</td>\n",
       "      <td>175</td>\n",
       "    </tr>\n",
       "    <tr>\n",
       "      <th>3</th>\n",
       "      <td>The Dark Knight</td>\n",
       "      <td>2008</td>\n",
       "      <td>152 min</td>\n",
       "      <td>Action</td>\n",
       "      <td>9.0</td>\n",
       "      <td>534.86</td>\n",
       "      <td>152</td>\n",
       "    </tr>\n",
       "    <tr>\n",
       "      <th>4</th>\n",
       "      <td>The Dark Knight</td>\n",
       "      <td>2008</td>\n",
       "      <td>152 min</td>\n",
       "      <td>Crime</td>\n",
       "      <td>9.0</td>\n",
       "      <td>534.86</td>\n",
       "      <td>152</td>\n",
       "    </tr>\n",
       "    <tr>\n",
       "      <th>5</th>\n",
       "      <td>The Dark Knight</td>\n",
       "      <td>2008</td>\n",
       "      <td>152 min</td>\n",
       "      <td>Drama</td>\n",
       "      <td>9.0</td>\n",
       "      <td>534.86</td>\n",
       "      <td>152</td>\n",
       "    </tr>\n",
       "    <tr>\n",
       "      <th>6</th>\n",
       "      <td>Schindler's List</td>\n",
       "      <td>1993</td>\n",
       "      <td>195 min</td>\n",
       "      <td>Biography</td>\n",
       "      <td>9.0</td>\n",
       "      <td>96.90</td>\n",
       "      <td>195</td>\n",
       "    </tr>\n",
       "    <tr>\n",
       "      <th>7</th>\n",
       "      <td>Schindler's List</td>\n",
       "      <td>1993</td>\n",
       "      <td>195 min</td>\n",
       "      <td>Drama</td>\n",
       "      <td>9.0</td>\n",
       "      <td>96.90</td>\n",
       "      <td>195</td>\n",
       "    </tr>\n",
       "    <tr>\n",
       "      <th>8</th>\n",
       "      <td>Schindler's List</td>\n",
       "      <td>1993</td>\n",
       "      <td>195 min</td>\n",
       "      <td>History</td>\n",
       "      <td>9.0</td>\n",
       "      <td>96.90</td>\n",
       "      <td>195</td>\n",
       "    </tr>\n",
       "    <tr>\n",
       "      <th>9</th>\n",
       "      <td>12 Angry Men</td>\n",
       "      <td>1957</td>\n",
       "      <td>96 min</td>\n",
       "      <td>Crime</td>\n",
       "      <td>9.0</td>\n",
       "      <td>4.36</td>\n",
       "      <td>96</td>\n",
       "    </tr>\n",
       "    <tr>\n",
       "      <th>10</th>\n",
       "      <td>12 Angry Men</td>\n",
       "      <td>1957</td>\n",
       "      <td>96 min</td>\n",
       "      <td>Drama</td>\n",
       "      <td>9.0</td>\n",
       "      <td>4.36</td>\n",
       "      <td>96</td>\n",
       "    </tr>\n",
       "    <tr>\n",
       "      <th>11</th>\n",
       "      <td>The Godfather Part II</td>\n",
       "      <td>1974</td>\n",
       "      <td>202 min</td>\n",
       "      <td>Crime</td>\n",
       "      <td>9.0</td>\n",
       "      <td>57.30</td>\n",
       "      <td>202</td>\n",
       "    </tr>\n",
       "    <tr>\n",
       "      <th>12</th>\n",
       "      <td>The Godfather Part II</td>\n",
       "      <td>1974</td>\n",
       "      <td>202 min</td>\n",
       "      <td>Drama</td>\n",
       "      <td>9.0</td>\n",
       "      <td>57.30</td>\n",
       "      <td>202</td>\n",
       "    </tr>\n",
       "    <tr>\n",
       "      <th>13</th>\n",
       "      <td>The Lord of the Rings: The Return of the King</td>\n",
       "      <td>2003</td>\n",
       "      <td>201 min</td>\n",
       "      <td>Action</td>\n",
       "      <td>9.0</td>\n",
       "      <td>377.85</td>\n",
       "      <td>201</td>\n",
       "    </tr>\n",
       "    <tr>\n",
       "      <th>14</th>\n",
       "      <td>The Lord of the Rings: The Return of the King</td>\n",
       "      <td>2003</td>\n",
       "      <td>201 min</td>\n",
       "      <td>Adventure</td>\n",
       "      <td>9.0</td>\n",
       "      <td>377.85</td>\n",
       "      <td>201</td>\n",
       "    </tr>\n",
       "  </tbody>\n",
       "</table>\n",
       "</div>"
      ],
      "text/plain": [
       "                                            title  release_year  runtime  \\\n",
       "0                        The Shawshank Redemption          1994  142 min   \n",
       "1                                   The Godfather          1972  175 min   \n",
       "2                                   The Godfather          1972  175 min   \n",
       "3                                 The Dark Knight          2008  152 min   \n",
       "4                                 The Dark Knight          2008  152 min   \n",
       "5                                 The Dark Knight          2008  152 min   \n",
       "6                                Schindler's List          1993  195 min   \n",
       "7                                Schindler's List          1993  195 min   \n",
       "8                                Schindler's List          1993  195 min   \n",
       "9                                    12 Angry Men          1957   96 min   \n",
       "10                                   12 Angry Men          1957   96 min   \n",
       "11                          The Godfather Part II          1974  202 min   \n",
       "12                          The Godfather Part II          1974  202 min   \n",
       "13  The Lord of the Rings: The Return of the King          2003  201 min   \n",
       "14  The Lord of the Rings: The Return of the King          2003  201 min   \n",
       "\n",
       "        genre  rating  gross(M)  duration  \n",
       "0       Drama     9.3     28.34       142  \n",
       "1       Crime     9.2    134.97       175  \n",
       "2       Drama     9.2    134.97       175  \n",
       "3      Action     9.0    534.86       152  \n",
       "4       Crime     9.0    534.86       152  \n",
       "5       Drama     9.0    534.86       152  \n",
       "6   Biography     9.0     96.90       195  \n",
       "7       Drama     9.0     96.90       195  \n",
       "8     History     9.0     96.90       195  \n",
       "9       Crime     9.0      4.36        96  \n",
       "10      Drama     9.0      4.36        96  \n",
       "11      Crime     9.0     57.30       202  \n",
       "12      Drama     9.0     57.30       202  \n",
       "13     Action     9.0    377.85       201  \n",
       "14  Adventure     9.0    377.85       201  "
      ]
     },
     "execution_count": 98,
     "metadata": {},
     "output_type": "execute_result"
    }
   ],
   "source": [
    "movies.head(15)"
   ]
  },
  {
   "cell_type": "markdown",
   "id": "99787590",
   "metadata": {},
   "source": [
    "### Calculate the average rating for each genre, but only include genres with at least 10 movies"
   ]
  },
  {
   "cell_type": "code",
   "execution_count": 101,
   "id": "ffad5c07",
   "metadata": {},
   "outputs": [],
   "source": [
    "rating_genre = movies.groupby('genre').rating.agg(['count','mean'])\n",
    "genre_rating = rating_genre[\"count\"] >= 10"
   ]
  },
  {
   "cell_type": "code",
   "execution_count": 103,
   "id": "6749fb3f",
   "metadata": {},
   "outputs": [],
   "source": [
    "final_rating = rating_genre[genre_rating]"
   ]
  },
  {
   "cell_type": "code",
   "execution_count": 104,
   "id": "eeef3b53",
   "metadata": {},
   "outputs": [
    {
     "data": {
      "text/html": [
       "<div>\n",
       "<style scoped>\n",
       "    .dataframe tbody tr th:only-of-type {\n",
       "        vertical-align: middle;\n",
       "    }\n",
       "\n",
       "    .dataframe tbody tr th {\n",
       "        vertical-align: top;\n",
       "    }\n",
       "\n",
       "    .dataframe thead th {\n",
       "        text-align: right;\n",
       "    }\n",
       "</style>\n",
       "<table border=\"1\" class=\"dataframe\">\n",
       "  <thead>\n",
       "    <tr style=\"text-align: right;\">\n",
       "      <th></th>\n",
       "      <th>count</th>\n",
       "      <th>mean</th>\n",
       "    </tr>\n",
       "    <tr>\n",
       "      <th>genre</th>\n",
       "      <th></th>\n",
       "      <th></th>\n",
       "    </tr>\n",
       "  </thead>\n",
       "  <tbody>\n",
       "    <tr>\n",
       "      <th>Action</th>\n",
       "      <td>207</td>\n",
       "      <td>7.986957</td>\n",
       "    </tr>\n",
       "    <tr>\n",
       "      <th>Adventure</th>\n",
       "      <td>189</td>\n",
       "      <td>7.983069</td>\n",
       "    </tr>\n",
       "    <tr>\n",
       "      <th>Animation</th>\n",
       "      <td>84</td>\n",
       "      <td>7.942857</td>\n",
       "    </tr>\n",
       "    <tr>\n",
       "      <th>Biography</th>\n",
       "      <td>107</td>\n",
       "      <td>7.971028</td>\n",
       "    </tr>\n",
       "    <tr>\n",
       "      <th>Comedy</th>\n",
       "      <td>230</td>\n",
       "      <td>7.910000</td>\n",
       "    </tr>\n",
       "    <tr>\n",
       "      <th>Crime</th>\n",
       "      <td>205</td>\n",
       "      <td>7.991707</td>\n",
       "    </tr>\n",
       "    <tr>\n",
       "      <th>Drama</th>\n",
       "      <td>731</td>\n",
       "      <td>7.980848</td>\n",
       "    </tr>\n",
       "    <tr>\n",
       "      <th>Family</th>\n",
       "      <td>52</td>\n",
       "      <td>7.932692</td>\n",
       "    </tr>\n",
       "    <tr>\n",
       "      <th>Fantasy</th>\n",
       "      <td>62</td>\n",
       "      <td>7.927419</td>\n",
       "    </tr>\n",
       "    <tr>\n",
       "      <th>Film-Noir</th>\n",
       "      <td>22</td>\n",
       "      <td>7.977273</td>\n",
       "    </tr>\n",
       "    <tr>\n",
       "      <th>History</th>\n",
       "      <td>45</td>\n",
       "      <td>7.933333</td>\n",
       "    </tr>\n",
       "    <tr>\n",
       "      <th>Horror</th>\n",
       "      <td>33</td>\n",
       "      <td>7.875758</td>\n",
       "    </tr>\n",
       "    <tr>\n",
       "      <th>Music</th>\n",
       "      <td>31</td>\n",
       "      <td>7.909677</td>\n",
       "    </tr>\n",
       "    <tr>\n",
       "      <th>Musical</th>\n",
       "      <td>16</td>\n",
       "      <td>7.943750</td>\n",
       "    </tr>\n",
       "    <tr>\n",
       "      <th>Mystery</th>\n",
       "      <td>103</td>\n",
       "      <td>7.992233</td>\n",
       "    </tr>\n",
       "    <tr>\n",
       "      <th>Romance</th>\n",
       "      <td>125</td>\n",
       "      <td>7.940800</td>\n",
       "    </tr>\n",
       "    <tr>\n",
       "      <th>Sci-Fi</th>\n",
       "      <td>67</td>\n",
       "      <td>7.986567</td>\n",
       "    </tr>\n",
       "    <tr>\n",
       "      <th>Sport</th>\n",
       "      <td>15</td>\n",
       "      <td>7.980000</td>\n",
       "    </tr>\n",
       "    <tr>\n",
       "      <th>Thriller</th>\n",
       "      <td>141</td>\n",
       "      <td>7.929787</td>\n",
       "    </tr>\n",
       "    <tr>\n",
       "      <th>War</th>\n",
       "      <td>50</td>\n",
       "      <td>8.050000</td>\n",
       "    </tr>\n",
       "    <tr>\n",
       "      <th>Western</th>\n",
       "      <td>17</td>\n",
       "      <td>8.052941</td>\n",
       "    </tr>\n",
       "  </tbody>\n",
       "</table>\n",
       "</div>"
      ],
      "text/plain": [
       "           count      mean\n",
       "genre                     \n",
       "Action       207  7.986957\n",
       "Adventure    189  7.983069\n",
       "Animation     84  7.942857\n",
       "Biography    107  7.971028\n",
       "Comedy       230  7.910000\n",
       "Crime        205  7.991707\n",
       "Drama        731  7.980848\n",
       "Family        52  7.932692\n",
       "Fantasy       62  7.927419\n",
       "Film-Noir     22  7.977273\n",
       "History       45  7.933333\n",
       "Horror        33  7.875758\n",
       "Music         31  7.909677\n",
       "Musical       16  7.943750\n",
       "Mystery      103  7.992233\n",
       "Romance      125  7.940800\n",
       "Sci-Fi        67  7.986567\n",
       "Sport         15  7.980000\n",
       "Thriller     141  7.929787\n",
       "War           50  8.050000\n",
       "Western       17  8.052941"
      ]
     },
     "execution_count": 104,
     "metadata": {},
     "output_type": "execute_result"
    }
   ],
   "source": [
    "final_rating"
   ]
  }
 ],
 "metadata": {
  "kernelspec": {
   "display_name": "Python 3 (ipykernel)",
   "language": "python",
   "name": "python3"
  },
  "language_info": {
   "codemirror_mode": {
    "name": "ipython",
    "version": 3
   },
   "file_extension": ".py",
   "mimetype": "text/x-python",
   "name": "python",
   "nbconvert_exporter": "python",
   "pygments_lexer": "ipython3",
   "version": "3.9.7"
  }
 },
 "nbformat": 4,
 "nbformat_minor": 5
}
